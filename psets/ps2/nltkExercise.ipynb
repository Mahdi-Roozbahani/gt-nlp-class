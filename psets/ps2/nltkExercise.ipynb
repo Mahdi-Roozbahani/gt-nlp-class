import numpy as np
import nltk
from nltk.tokenize import sent_tokenize, word_tokenize
from collections import defaultdict

# this enables you to create inline plots in the notebook 
%pylab inline

###### Excersise codes go here

#some examples of word,sentence, lexicon (words and their means), and corpores tokenizing
#sentence = "hello there, how are you doing today? the weather is great and Python is awesome. The sky is pinkish-blue. You should not eat cardboard."
## Some sample codes

#print(sent_tokenize(sentence))
#print(word_tokenize(sentence))
#for i in word_tokenize(sentence):
#    print(i)
####################################
#Stop words
